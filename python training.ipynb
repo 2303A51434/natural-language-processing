{
  "cells": [
    {
      "cell_type": "markdown",
      "metadata": {
        "id": "view-in-github",
        "colab_type": "text"
      },
      "source": [
        "<a href=\"https://colab.research.google.com/github/2303A51434/python/blob/main/python%20training.ipynb\" target=\"_parent\"><img src=\"https://colab.research.google.com/assets/colab-badge.svg\" alt=\"Open In Colab\"/></a>"
      ]
    },
    {
      "cell_type": "code",
      "source": [
        "s1 =input()\n",
        "s2 =s1[::-1]\n",
        "if s1 ==s2:\n",
        "  print(\"palindrome:\")\n",
        "else:\n",
        "  print(\"not a palindrome:\")\n"
      ],
      "metadata": {
        "colab": {
          "base_uri": "https://localhost:8080/"
        },
        "id": "tz6iJ0GnNcCK",
        "outputId": "cf0c600f-dc6a-433b-982f-d7a9d76dbaca"
      },
      "execution_count": null,
      "outputs": [
        {
          "output_type": "stream",
          "name": "stdout",
          "text": [
            "121\n",
            "palindrome:\n"
          ]
        }
      ]
    },
    {
      "cell_type": "code",
      "source": [
        "s1 =input()\n",
        "s2 =\"\"\n",
        "for i in range (len(s1)-1,-1,-1):\n",
        "  s2 = s2 +s1[i]\n",
        "print(s2)\n",
        "if s2 ==s1:\n",
        "  print(\"palindrome:\")\n",
        "else:\n",
        "  print(\"not a palindrome:\")"
      ],
      "metadata": {
        "colab": {
          "base_uri": "https://localhost:8080/"
        },
        "id": "KNQSSU1CNcAk",
        "outputId": "d94f6e0c-7736-4438-b7c5-cf14426da4e7"
      },
      "execution_count": null,
      "outputs": [
        {
          "output_type": "stream",
          "name": "stdout",
          "text": [
            "madam\n",
            "madam\n",
            "palindrome:\n"
          ]
        }
      ]
    },
    {
      "cell_type": "code",
      "source": [
        "s = \"bob\"\n",
        "print(s)\n",
        "\n",
        "s = \"alice\"\n",
        "age =25\n",
        "city =\"new york\"\n",
        "print(s,age,city)"
      ],
      "metadata": {
        "colab": {
          "base_uri": "https://localhost:8080/"
        },
        "id": "diyz3Ln_Wpet",
        "outputId": "ddd7865b-fba5-487a-8356-96e243775f00"
      },
      "execution_count": null,
      "outputs": [
        {
          "output_type": "stream",
          "name": "stdout",
          "text": [
            "bob\n",
            "alice 25 new york\n"
          ]
        }
      ]
    },
    {
      "cell_type": "code",
      "source": [
        "s = input()\n",
        "print(ord('a')-32)\n",
        "s_list = list(s) # Convert the string to a list of characters\n",
        "for i in range (len(s_list)):\n",
        "  if i==0:\n",
        "    s_list[0] =s_list[i].upper()\n",
        "  elif s_list[i-1]== ' ' :\n",
        "    s_list[i] =s_list[i].upper()\n",
        "s = \"\".join(s_list) # Join the list back into a string\n",
        "print(s)"
      ],
      "metadata": {
        "id": "DwKL5uuoXIue",
        "colab": {
          "base_uri": "https://localhost:8080/"
        },
        "outputId": "2416fa9b-b6f1-4a81-c73e-992cdb2dd044"
      },
      "execution_count": null,
      "outputs": [
        {
          "output_type": "stream",
          "name": "stdout",
          "text": [
            "suhas is bad boy\n",
            "65\n",
            "Suhas Is Bad Boy\n"
          ]
        }
      ]
    },
    {
      "cell_type": "code",
      "source": [
        "s =list(input())\n",
        "for i in range (len(s)):\n",
        "  if i ==0:\n",
        "    # User's intent is unclear here, leaving as a comment\n",
        "    pass"
      ],
      "metadata": {
        "id": "dv8XqnBgi5OL"
      },
      "execution_count": null,
      "outputs": []
    },
    {
      "cell_type": "code",
      "source": [
        "#wap to check whether a str one is substring of string two\n",
        "s1 =input()\n",
        "s2 = input()\n",
        "\n",
        "if s2 in s1 :\n",
        "  print(\"yes it is a substring\")\n",
        "else:\n",
        "  print(\"no it is not a substring\")"
      ],
      "metadata": {
        "colab": {
          "base_uri": "https://localhost:8080/"
        },
        "id": "UBQ_v3qOj3vn",
        "outputId": "ffe3216d-ee79-40f0-f037-0e08c28002c6"
      },
      "execution_count": null,
      "outputs": [
        {
          "output_type": "stream",
          "name": "stdout",
          "text": [
            "pan\n",
            "elephant \n",
            "no it is not a substring\n"
          ]
        }
      ]
    },
    {
      "cell_type": "code",
      "source": [
        "l = [10,30,100,2.5,\"something\"]\n",
        "\n",
        "print(*l)\n",
        "print(type(l))\n",
        "l[0] =20\n",
        "print(*l)\n",
        "print(l[1:4])\n",
        "print(l[-1])\n"
      ],
      "metadata": {
        "colab": {
          "base_uri": "https://localhost:8080/"
        },
        "id": "WVRnncIZ7Y8z",
        "outputId": "a55e3f5b-4d79-4fcc-a906-19ef53884fb8"
      },
      "execution_count": 3,
      "outputs": [
        {
          "output_type": "stream",
          "name": "stdout",
          "text": [
            "10 30 100 2.5 something\n",
            "<class 'list'>\n",
            "20 30 100 2.5 something\n",
            "[30, 100, 2.5]\n",
            "something\n"
          ]
        }
      ]
    },
    {
      "cell_type": "code",
      "source": [
        "l = [10,30,100,2.5,\"something\"]\n",
        "\n",
        "print(*l)\n",
        "print(type(l))\n",
        "l[0] =20\n",
        "print(*l)\n",
        "print(l[1:4])\n",
        "print(l[-1])\n",
        "print(l[-2:-5:-1])"
      ],
      "metadata": {
        "colab": {
          "base_uri": "https://localhost:8080/"
        },
        "id": "EARKFtH976Ug",
        "outputId": "4c33a933-21f4-4ed6-fecc-02666f677851"
      },
      "execution_count": 4,
      "outputs": [
        {
          "output_type": "stream",
          "name": "stdout",
          "text": [
            "10 30 100 2.5 something\n",
            "<class 'list'>\n",
            "20 30 100 2.5 something\n",
            "[30, 100, 2.5]\n",
            "something\n",
            "[2.5, 100, 30]\n"
          ]
        }
      ]
    },
    {
      "cell_type": "code",
      "source": [
        "l1 = list (map(int,input,split()))\n",
        "print(type(l1))\n",
        "print(l1)"
      ],
      "metadata": {
        "colab": {
          "base_uri": "https://localhost:8080/",
          "height": 176
        },
        "id": "rrhoEuSRBW3d",
        "outputId": "f0f10e9e-5942-418b-9b96-98107d631339"
      },
      "execution_count": 10,
      "outputs": [
        {
          "output_type": "error",
          "ename": "NameError",
          "evalue": "name 'split' is not defined",
          "traceback": [
            "\u001b[0;31m---------------------------------------------------------------------------\u001b[0m",
            "\u001b[0;31mNameError\u001b[0m                                 Traceback (most recent call last)",
            "\u001b[0;32m/tmp/ipython-input-1486566168.py\u001b[0m in \u001b[0;36m<cell line: 0>\u001b[0;34m()\u001b[0m\n\u001b[0;32m----> 1\u001b[0;31m \u001b[0ml1\u001b[0m \u001b[0;34m=\u001b[0m \u001b[0mlist\u001b[0m \u001b[0;34m(\u001b[0m\u001b[0mmap\u001b[0m\u001b[0;34m(\u001b[0m\u001b[0mint\u001b[0m\u001b[0;34m,\u001b[0m\u001b[0minput\u001b[0m\u001b[0;34m,\u001b[0m\u001b[0msplit\u001b[0m\u001b[0;34m(\u001b[0m\u001b[0;34m)\u001b[0m\u001b[0;34m)\u001b[0m\u001b[0;34m)\u001b[0m\u001b[0;34m\u001b[0m\u001b[0;34m\u001b[0m\u001b[0m\n\u001b[0m\u001b[1;32m      2\u001b[0m \u001b[0mprint\u001b[0m\u001b[0;34m(\u001b[0m\u001b[0mtype\u001b[0m\u001b[0;34m(\u001b[0m\u001b[0ml1\u001b[0m\u001b[0;34m)\u001b[0m\u001b[0;34m)\u001b[0m\u001b[0;34m\u001b[0m\u001b[0;34m\u001b[0m\u001b[0m\n\u001b[1;32m      3\u001b[0m \u001b[0mprint\u001b[0m\u001b[0;34m(\u001b[0m\u001b[0ml1\u001b[0m\u001b[0;34m)\u001b[0m\u001b[0;34m\u001b[0m\u001b[0;34m\u001b[0m\u001b[0m\n",
            "\u001b[0;31mNameError\u001b[0m: name 'split' is not defined"
          ]
        }
      ]
    },
    {
      "cell_type": "code",
      "source": [
        "l1 =list(input())\n",
        "print(type(l1))"
      ],
      "metadata": {
        "id": "CJgG8mSxBRL7"
      },
      "execution_count": null,
      "outputs": []
    }
  ],
  "metadata": {
    "colab": {
      "provenance": [],
      "authorship_tag": "ABX9TyPvuMRG6Eq3WYd2VO89BQUi",
      "include_colab_link": true
    },
    "kernelspec": {
      "display_name": "Python 3",
      "name": "python3"
    },
    "language_info": {
      "name": "python"
    }
  },
  "nbformat": 4,
  "nbformat_minor": 0
}