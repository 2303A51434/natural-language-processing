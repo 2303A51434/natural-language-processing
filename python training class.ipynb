{
  "cells": [
    {
      "cell_type": "markdown",
      "metadata": {
        "id": "view-in-github",
        "colab_type": "text"
      },
      "source": [
        "<a href=\"https://colab.research.google.com/github/2303A51434/python/blob/main/python%20training%20class.ipynb\" target=\"_parent\"><img src=\"https://colab.research.google.com/assets/colab-badge.svg\" alt=\"Open In Colab\"/></a>"
      ]
    },
    {
      "cell_type": "code",
      "source": [
        "s1 =input()\n",
        "s2 =s1[::-1]\n",
        "if s1 ==s2:\n",
        "  print(\"palindrome:\")\n",
        "else:\n",
        "  print(\"not a palindrome:\")\n"
      ],
      "metadata": {
        "colab": {
          "base_uri": "https://localhost:8080/"
        },
        "id": "tz6iJ0GnNcCK",
        "outputId": "cf0c600f-dc6a-433b-982f-d7a9d76dbaca"
      },
      "execution_count": null,
      "outputs": [
        {
          "output_type": "stream",
          "name": "stdout",
          "text": [
            "121\n",
            "palindrome:\n"
          ]
        }
      ]
    },
    {
      "cell_type": "code",
      "source": [
        "s1 =input()\n",
        "s2 =\"\"\n",
        "for i in range (len(s1)-1,-1,-1):\n",
        "  s2 = s2 +s1[i]\n",
        "print(s2)\n",
        "if s2 ==s1:\n",
        "  print(\"palindrome:\")\n",
        "else:\n",
        "  print(\"not a palindrome:\")"
      ],
      "metadata": {
        "colab": {
          "base_uri": "https://localhost:8080/"
        },
        "id": "KNQSSU1CNcAk",
        "outputId": "d94f6e0c-7736-4438-b7c5-cf14426da4e7"
      },
      "execution_count": null,
      "outputs": [
        {
          "output_type": "stream",
          "name": "stdout",
          "text": [
            "madam\n",
            "madam\n",
            "palindrome:\n"
          ]
        }
      ]
    },
    {
      "cell_type": "code",
      "source": [
        "s = \"bob\"\n",
        "print(s)\n",
        "\n",
        "s = \"alice\"\n",
        "age =25\n",
        "city =\"new york\"\n",
        "print(s,age,city)"
      ],
      "metadata": {
        "colab": {
          "base_uri": "https://localhost:8080/"
        },
        "id": "diyz3Ln_Wpet",
        "outputId": "ddd7865b-fba5-487a-8356-96e243775f00"
      },
      "execution_count": null,
      "outputs": [
        {
          "output_type": "stream",
          "name": "stdout",
          "text": [
            "bob\n",
            "alice 25 new york\n"
          ]
        }
      ]
    },
    {
      "cell_type": "code",
      "source": [],
      "metadata": {
        "id": "DwKL5uuoXIue"
      },
      "execution_count": null,
      "outputs": []
    }
  ],
  "metadata": {
    "colab": {
      "provenance": [],
      "authorship_tag": "ABX9TyOV64p5te9pZg+p0sAZA+v6",
      "include_colab_link": true
    },
    "kernelspec": {
      "display_name": "Python 3",
      "name": "python3"
    },
    "language_info": {
      "name": "python"
    }
  },
  "nbformat": 4,
  "nbformat_minor": 0
}