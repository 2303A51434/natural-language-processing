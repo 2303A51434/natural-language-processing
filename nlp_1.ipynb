{
  "cells": [
    {
      "cell_type": "markdown",
      "metadata": {
        "id": "view-in-github",
        "colab_type": "text"
      },
      "source": [
        "<a href=\"https://colab.research.google.com/github/2303A51434/python/blob/main/nlp_1.ipynb\" target=\"_parent\"><img src=\"https://colab.research.google.com/assets/colab-badge.svg\" alt=\"Open In Colab\"/></a>"
      ]
    },
    {
      "cell_type": "code",
      "source": [
        "import pandas as pd\n",
        "import re\n",
        "import nltk\n",
        "from nltk.corpus import stopwords\n",
        "from nltk.tokenize import word_tokenize, sent_tokenize\n",
        "from collections import Counter\n",
        "import spacy\n",
        "from nltk.stem import PorterStemmer\n",
        "\n",
        "# Step 1: Load data and clean text\n",
        "df = pd.read_csv(\"bbc_news.csv\")\n",
        "texts = df['description']\n",
        "\n",
        "def clean_text(text):\n",
        "    text = str(text).lower()\n",
        "    text = re.sub(r'[^a-z\\s]', '', text)\n",
        "    text = text.strip()\n",
        "    return text\n",
        "\n",
        "texts_cleaned = texts.apply(clean_text)\n",
        "\n",
        "# Step 2: Tokenize, remove stop words, top 10 frequent tokens\n",
        "nltk.download('punkt')\n",
        "nltk.download('stopwords')\n",
        "nltk.download('punkt_tab')  # Download punkt_tab resource\n",
        "\n",
        "stop_words = set(stopwords.words('english'))\n",
        "tokens = []\n",
        "\n",
        "for text in texts_cleaned:\n",
        "    words = word_tokenize(text)\n",
        "    words = [w for w in words if w not in stop_words]\n",
        "    tokens.extend(words)\n",
        "\n",
        "freq_tokens = Counter(tokens)\n",
        "print(\"Top 10 frequent tokens:\", freq_tokens.most_common(10))\n",
        "\n",
        "# Step 3: Lemmatize, stem, top 10 frequent lemmas\n",
        "try:\n",
        "    nlp = spacy.load(\"en_core_web_sm\")\n",
        "except:\n",
        "    import spacy.cli\n",
        "    spacy.cli.download(\"en_core_web_sm\")\n",
        "    nlp = spacy.load(\"en_core_web_sm\")\n",
        "\n",
        "stemmer = PorterStemmer()\n",
        "lemmas = []\n",
        "stems = []\n",
        "\n",
        "for text in texts_cleaned:\n",
        "    doc = nlp(text)\n",
        "    for token in doc:\n",
        "        if token.is_stop == False and token.is_alpha:\n",
        "            lemmas.append(token.lemma_)\n",
        "            stems.append(stemmer.stem(token.text))\n",
        "\n",
        "freq_lemmas = Counter(lemmas)\n",
        "print(\"Top 10 lemmas:\", freq_lemmas.most_common(10))"
      ],
      "metadata": {
        "colab": {
          "base_uri": "https://localhost:8080/"
        },
        "id": "k4z5LZlR15de",
        "outputId": "045fd808-6fd0-48b1-f549-f62fa20a3eee"
      },
      "execution_count": null,
      "outputs": [
        {
          "output_type": "stream",
          "name": "stderr",
          "text": [
            "[nltk_data] Downloading package punkt to /root/nltk_data...\n",
            "[nltk_data]   Unzipping tokenizers/punkt.zip.\n",
            "[nltk_data] Downloading package stopwords to /root/nltk_data...\n",
            "[nltk_data]   Unzipping corpora/stopwords.zip.\n",
            "[nltk_data] Downloading package punkt_tab to /root/nltk_data...\n",
            "[nltk_data]   Unzipping tokenizers/punkt_tab.zip.\n"
          ]
        },
        {
          "output_type": "stream",
          "name": "stdout",
          "text": [
            "Top 10 frequent tokens: [('says', 4561), ('world', 2030), ('bbc', 2011), ('people', 1989), ('england', 1922), ('first', 1905), ('new', 1894), ('say', 1676), ('cup', 1486), ('uk', 1462)]\n"
          ]
        }
      ]
    }
  ],
  "metadata": {
    "colab": {
      "provenance": [],
      "authorship_tag": "ABX9TyNH+EJV24ld5CRYVGczlI9S",
      "include_colab_link": true
    },
    "kernelspec": {
      "display_name": "Python 3",
      "name": "python3"
    },
    "language_info": {
      "name": "python"
    }
  },
  "nbformat": 4,
  "nbformat_minor": 0
}